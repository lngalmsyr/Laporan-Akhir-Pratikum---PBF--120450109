{
 "cells": [
  {
   "cell_type": "code",
   "execution_count": 3,
   "metadata": {},
   "outputs": [],
   "source": [
    "import numpy as np\n",
    "from random import randint\n",
    "from functools import reduce as r\n"
   ]
  },
  {
   "cell_type": "code",
   "execution_count": 4,
   "metadata": {},
   "outputs": [
    {
     "data": {
      "text/plain": [
       "array([[-0.97083107, -0.53074158],\n",
       "       [ 0.19774962, -0.72058988]])"
      ]
     },
     "execution_count": 4,
     "metadata": {},
     "output_type": "execute_result"
    }
   ],
   "source": [
    "def fungsim(a, b):\n",
    "    M= np.random.uniform(a, b, size=(2, 2))\n",
    "    return M\n",
    "M=fungsim(-1, 1)\n",
    "M\n"
   ]
  },
  {
   "cell_type": "code",
   "execution_count": 5,
   "metadata": {},
   "outputs": [
    {
     "data": {
      "text/plain": [
       "array([[-0.13535487,  0.10463979],\n",
       "       [-0.52047653, -0.46870126],\n",
       "       [-0.90920516,  0.11858907]])"
      ]
     },
     "execution_count": 5,
     "metadata": {},
     "output_type": "execute_result"
    }
   ],
   "source": [
    "def fungsiw(a, b):\n",
    "    W= np.random.uniform(a, b, size=(3, 2))\n",
    "    return W\n",
    "W=fungsiw(-1, 1)\n",
    "W"
   ]
  },
  {
   "cell_type": "code",
   "execution_count": 6,
   "metadata": {},
   "outputs": [
    {
     "data": {
      "text/plain": [
       "array([[-0.52051307],\n",
       "       [ 0.40985099]])"
      ]
     },
     "execution_count": 6,
     "metadata": {},
     "output_type": "execute_result"
    }
   ],
   "source": [
    "def fungsih(a, b):\n",
    "    H= np.random.uniform(a, b, size=(2, 1))\n",
    "    return H\n",
    "H=fungsih(-1, 1)\n",
    "H"
   ]
  },
  {
   "cell_type": "code",
   "execution_count": 7,
   "metadata": {},
   "outputs": [],
   "source": [
    "X=[1,0,9]"
   ]
  },
  {
   "cell_type": "code",
   "execution_count": 8,
   "metadata": {},
   "outputs": [],
   "source": [
    "import time\n",
    "\n",
    "def calc_time_decorator(func):\n",
    "    def inner(*args, **kwargs):\n",
    "        start = time.time()\n",
    "        res = func(*args, **kwargs)\n",
    "        end = time.time()\n",
    "        print('Time: ', end - start)\n",
    "        return res\n",
    "    return inner"
   ]
  },
  {
   "cell_type": "code",
   "execution_count": 9,
   "metadata": {},
   "outputs": [],
   "source": [
    "import math\n",
    "\n",
    "def aktivasi(x):\n",
    "    return (math.exp(x)-math.exp(-x))/(math.exp(x)+math.exp(-x))\n",
    "def WTi(W,i):\n",
    "    return list(map(lambda w: w[i], W))\n",
    "def WT(W):\n",
    "    return list(map(lambda i: WTi(W,i), range(0,len(W[0]))))\n",
    "def XW(X,W):\n",
    "    return map(lambda w:r(lambda x,y:x+y, map(lambda xx,ww:xx*ww, X,w)), WT(W))\n",
    "def input_to_hidden(X,W):\n",
    "    return map(lambda x: aktivasi(x), XW(X,W))\n",
    "\n",
    "A=list(input_to_hidden(X,W))\n",
    "\n",
    "def MTi(M,i):\n",
    "    return list(map(lambda m: m[i], M))\n",
    "def MT(M):\n",
    "    return list(map(lambda i: MTi(M,i), range(0,len(M[0]))))\n",
    "def AM(A,M):\n",
    "    return map(lambda m:r(lambda x,y:x+y, map(lambda aa,mm:aa*mm, A,m)), MT(M))\n",
    "def hidden_to_hidden(A,M):\n",
    "    return map(lambda a: a, AM(A,M))\n",
    "\n",
    "@calc_time_decorator\n",
    "def feed_forward(A,M,H):\n",
    "    return hidden_to_hidden(hidden_to_hidden(A,M),H)"
   ]
  },
  {
   "cell_type": "code",
   "execution_count": 10,
   "metadata": {},
   "outputs": [
    {
     "name": "stdout",
     "output_type": "stream",
     "text": [
      "Time:  0.0\n",
      "[-0.6163320945249138]\n"
     ]
    }
   ],
   "source": [
    "print(list(feed_forward(A,M,H)))"
   ]
  },
  {
   "cell_type": "code",
   "execution_count": null,
   "metadata": {},
   "outputs": [],
   "source": []
  }
 ],
 "metadata": {
  "interpreter": {
   "hash": "20a9e06a1eee47c4abbed4ec8225ad91d78d9800d202b71b6b0a6e47016c6abd"
  },
  "kernelspec": {
   "display_name": "Python 3 (ipykernel)",
   "language": "python",
   "name": "python3"
  },
  "language_info": {
   "codemirror_mode": {
    "name": "ipython",
    "version": 3
   },
   "file_extension": ".py",
   "mimetype": "text/x-python",
   "name": "python",
   "nbconvert_exporter": "python",
   "pygments_lexer": "ipython3",
   "version": "3.9.7"
  }
 },
 "nbformat": 4,
 "nbformat_minor": 4
}
