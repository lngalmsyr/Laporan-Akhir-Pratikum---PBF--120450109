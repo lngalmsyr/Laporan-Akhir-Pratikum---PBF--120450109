{
 "cells": [
  {
   "cell_type": "markdown",
   "metadata": {},
   "source": [
    "Exercise 1 sebelum UTS"
   ]
  },
  {
   "cell_type": "markdown",
   "metadata": {},
   "source": [
    "Exercise 1 sebelum UTS"
   ]
  },
  {
   "cell_type": "code",
   "execution_count": 67,
   "metadata": {},
   "outputs": [],
   "source": [
    "# Lanang Almasyuri Program exercise 1\n",
    "# Author : Lanang Almasyuri\n",
    "# NIM : 120450109\n",
    "# Affiliation : Sains Data ITERA\n",
    "# Program Description : Program to solve simple encryption password problem \n",
    "\n",
    "def encrypt(pwd):\n",
    "  splitpass = list(pwd)\n",
    "\n",
    "  asciipass = list()\n",
    "  for char in splitpass:\n",
    "    asciichar = ord(char)\n",
    "    asciipass.append(asciichar)\n",
    "\n",
    "  encryptedpass = \"\"\n",
    "  for num in asciipass:\n",
    "    firstval = num//26 + 80\n",
    "    secondval = num%26 + 80\n",
    "    if firstval > secondval:\n",
    "      thirdval = '-'\n",
    "    else:\n",
    "      thirdval = '+'\n",
    "\n",
    "    encryptedpass = encryptedpass + chr(firstval) + chr(secondval) + thirdval\n",
    "\n",
    "\n",
    "  return encryptedpass\n",
    "\n",
    "def decrypt(pwd):\n",
    "  splitpass = [pwd[i:i+3] for i in range(0, len(pwd), 3)]\n",
    "\n",
    "  asciipass = list()\n",
    "  for word in splitpass:\n",
    "    firstval = ord(word[0]) - 80\n",
    "    secval = ord(word[1]) - 80\n",
    "    val = 26 * firstval + secval\n",
    "    asciipass.append(val)\n",
    "\n",
    "  password = ''\n",
    "  for i in asciipass:\n",
    "    char = chr(i)\n",
    "    password = password + char\n",
    "\n",
    "  return password"
   ]
  },
  {
   "cell_type": "code",
   "execution_count": 68,
   "metadata": {},
   "outputs": [
    {
     "name": "stdout",
     "output_type": "stream",
     "text": [
      "terimakasih\n"
     ]
    }
   ],
   "source": [
    "while True :\n",
    "    jawab=input(\"apakah kamu ingin melakukan enkripsi(y/n)\")\n",
    "    if jawab  == \"y\":\n",
    "        text = input(\"masukkan text pasword anda`\")\n",
    "        print (\"Text : \" + text)\n",
    "        print (\"Cipher: \" + encrypt(text))\n",
    "    else:\n",
    "        print(\"terimakasih\")\n",
    "        break"
   ]
  },
  {
   "cell_type": "code",
   "execution_count": 69,
   "metadata": {},
   "outputs": [
    {
     "name": "stdout",
     "output_type": "stream",
     "text": [
      "Sc+TV+Sc+TS-Sc+TV+Sc+TS-Se+Sg+TZ+Sf+Sc+T[+Qh+Qf+Qh+Qf+\n"
     ]
    }
   ],
   "source": [
    "text=\"anakanakcerdas2020\"\n",
    "print(encrypt(text))"
   ]
  },
  {
   "cell_type": "code",
   "execution_count": 70,
   "metadata": {},
   "outputs": [
    {
     "name": "stdout",
     "output_type": "stream",
     "text": [
      "anaksainsdata2020kece\n"
     ]
    }
   ],
   "source": [
    "text=\"Sc-TV-Sc-TS+T[-Sc-TQ+TV-T[-Sf-Sc-T\\-Sc-Qh-Qf-Qh-Qf-TS+Sg-Se-Sg-\"\n",
    "print(decrypt(text))"
   ]
  },
  {
   "cell_type": "markdown",
   "metadata": {},
   "source": [
    "Exercise 2 sebelum UTS"
   ]
  },
  {
   "cell_type": "code",
   "execution_count": 71,
   "metadata": {},
   "outputs": [],
   "source": [
    "\n",
    "# Lanang Almasyuri Program exercise 2\n",
    "# Author : Lanang Almasyuri\n",
    "# NIM : 120450109\n",
    "# Affiliation : Sains Data ITERA\n",
    "# Program Description : Program to solve simple encryption password problem \n",
    "\n",
    "\n",
    "# Python3 program to find sum of\n",
    "# two large numbers.\n",
    "\n",
    "# Function for finding sum of\n",
    "# larger numbers\n",
    "\n",
    "file1 = open(\"C:/Users/Lenovo/OneDrive/Desktop/KELAS/PBF/Tugas/tugas wajib/exercise2/dataex1.txt\", \"r\")\n",
    "line1 = file1.readlines()\n",
    "file1.close\n",
    "\n",
    "file2 = open(\"C:/Users/Lenovo/OneDrive/Desktop/KELAS/PBF/Tugas/tugas wajib/exercise2/dataex2.txt\", \"r\")\n",
    "line2 = file2.readlines()\n",
    "file2.close\n",
    "\n",
    "str1 = str(line1)\n",
    "str2 = str(line2)\n",
    "\n",
    "def findSum(str1, str2):\n",
    "\t\n",
    "\t# Before proceeding further,\n",
    "\t# make sure length of str2 is larger.\n",
    "\tif (len(str1) > len(str2)):\n",
    "\t\tt = str1;\n",
    "\t\tstr1 = str2;\n",
    "\t\tstr2 = t;\n",
    "\n",
    "\t# Take an empty string for\n",
    "\t# storing result\n",
    "\tstr = \"\";\n",
    "\n",
    "\t# Calculate length of both string\n",
    "\tn1 = len(str1);\n",
    "\tn2 = len(str2);\n",
    "\n",
    "\t# Reverse both of strings\n",
    "\tstr1 = str1[::-1];\n",
    "\tstr2 = str2[::-1];\n",
    "\n",
    "\tcarry = 0;\n",
    "\tfor i in range(n1):\n",
    "\t\t\n",
    "\t\t# Do school mathematics, compute\n",
    "\t\t# sum of current digits and carry\n",
    "\t\tsum = ((ord(str1[i]) - 48) +\n",
    "\t\t\t((ord(str2[i]) - 48) + carry));\n",
    "\t\tstr += chr(sum % 10 + 48);\n",
    "\n",
    "\t\t# Calculate carry for next step\n",
    "\t\tcarry = int(sum / 10);\n",
    "\n",
    "\t# Add remaining digits of larger number\n",
    "\tfor i in range(n1, n2):\n",
    "\t\tsum = ((ord(str2[i]) - 48) + carry);\n",
    "\t\tstr += chr(sum % 10 + 48);\n",
    "\t\tcarry = (int)(sum / 10);\n",
    "\n",
    "\t# Add remaining carry\n",
    "\tif (carry):\n",
    "\t\tstr += chr(carry + 48);\n",
    "\n",
    "\t# reverse resultant string\n",
    "\tstr = str[::-1];\n",
    "\n",
    "\treturn str;\n",
    "\n"
   ]
  },
  {
   "cell_type": "code",
   "execution_count": 72,
   "metadata": {},
   "outputs": [
    {
     "name": "stdout",
     "output_type": "stream",
     "text": [
      "['9502561694858652150281747994108545943651521215096841995237040384498740803993469376602031341619585763'] + ['2116068642696162934965789080530992805391900568978958496201555855833896833372295507803936243187061092'] hasilnya adalah = 853161863033755481508524753707463953874904342178407580049143859624033263763736576488440596758480664685510\n"
     ]
    }
   ],
   "source": [
    "\n",
    "print (str1, \"+\", str2, \"hasilnya adalah =\", findSum(str1,str2))\n"
   ]
  },
  {
   "cell_type": "markdown",
   "metadata": {},
   "source": [
    "Exercise 3 sebelum UTS"
   ]
  },
  {
   "cell_type": "code",
   "execution_count": 73,
   "metadata": {},
   "outputs": [],
   "source": [
    "def euler(t,h,y,dy,Func):\n",
    "    d2y = Func(t,y,dy)\n",
    "    y_next = y + (h * dy)\n",
    "    dy_next = dy + (h * d2y)\n",
    "    return ( y_next, dy_next )\n",
    "\n",
    "def euler_cromer(t,h,y,dy,Func):\n",
    "    d2y = Func(t, y, dy)\n",
    "    dy_next = dy + (h * d2y)\n",
    "    y_next = y + (h * dy_next)\n",
    "\n",
    "    return (y_next, dy_next)"
   ]
  },
  {
   "cell_type": "code",
   "execution_count": null,
   "metadata": {},
   "outputs": [],
   "source": [
    "from solver import *\n",
    "\n",
    "\n",
    "def cauchy_euler(params,Func):\n",
    "    # Initial Condition\n",
    "    t0 = params['t0']\n",
    "    t_akhir = params['t_akhir']\n",
    "    h = params['h']\n",
    "    y0 = params['y0']\n",
    "    dy0 = params['dy0']\n",
    "\n",
    "    res_euler = []\n",
    "    t = []\n",
    "    step = int((t_akhir - t0) / h)\n",
    "\n",
    "    for i in range(step):\n",
    "        tm = (i + 1) * h\n",
    "        (y_next, dy_next) = euler(tm, h, y0, dy0, Func)\n",
    "        res_euler.append(y_next)\n",
    "        t.append(tm)\n",
    "        y0 = y_next\n",
    "        dy0 = dy_next\n",
    "\n",
    "    return (t,res_euler)\n",
    "\n",
    "def cauchy_eulercromer(params,Func):\n",
    "    # Initial Condition\n",
    "    t0 = params['t0']\n",
    "    t_akhir = params['t_akhir']\n",
    "    h = params['h']\n",
    "    y0 = params['y0']\n",
    "    dy0 = params['dy0']\n",
    "\n",
    "    res_euler_cromer = []\n",
    "    t = []\n",
    "    step = int((t_akhir - t0) / h)\n",
    "\n",
    "    for i in range(step):\n",
    "        tm = (i + 1) * h\n",
    "        (y_next, dy_next) = euler_cromer(tm, h, y0, dy0, Func)\n",
    "        res_euler_cromer.append(y_next)\n",
    "        t.append(tm)\n",
    "        y0 = y_next\n",
    "        dy0 = dy_next\n",
    "    return (t, res_euler_cromer)"
   ]
  },
  {
   "cell_type": "markdown",
   "metadata": {},
   "source": [
    "from solver import *\n",
    "from math import *\n",
    "import matplotlib.pyplot as plt\n",
    "\n",
    "g = 9.81                                    # gravitational Accelaration\n",
    "l = 1                                       # pendulum length\n",
    "k = 0                                       # velocity coeff\n",
    "u0 = 0.5 * pi\n",
    "du0 = 0\n",
    "t0 = 0\n",
    "t_akhir = 4\n",
    "h = 0.01\n",
    "w0 = g/l\n",
    "\n",
    "def Func(t,u,du):\n",
    "    return -w0 * sin(u) - k*du\n",
    "\n",
    "res_euler = []\n",
    "res_eulercromer = []\n",
    "t = []\n",
    "step = int((t_akhir - t0) / h)\n",
    "\n",
    "for i in range(step):\n",
    "    tm = (i + 1) * h\n",
    "    (u_next, du_next) = euler(tm, h, u0, du0, Func)\n",
    "    res_euler.append(u_next)\n",
    "    t.append(tm)\n",
    "    u0 = u_next\n",
    "    du0 = du_next\n",
    "\n",
    "t = []\n",
    "u0 = 0.5 * pi\n",
    "du0 = 0\n",
    "d2u0 = Func(t0,u0,du0)\n",
    "\n",
    "for i in range(step):\n",
    "    tm = (i + 1) * h\n",
    "    (u_next, du_next) = euler_cromer(tm, h, u0, du0, Func)\n",
    "    res_eulercromer.append(u_next)\n",
    "    t.append(tm)\n",
    "    u0 = u_next\n",
    "    du0 = du_next\n",
    "\n",
    "\n",
    "plt.title('Non Linear Pendulum h =0.01')\n",
    "plt.plot(t,res_euler,color='r', label = 'Euler')\n",
    "plt.plot(t,res_eulercromer,color='g', label = 'Euler Cromer')\n",
    "plt.xlabel('t')\n",
    "plt.ylabel('u(t)')\n",
    "plt.legend()\n",
    "\n",
    "plt.show()"
   ]
  },
  {
   "cell_type": "markdown",
   "metadata": {},
   "source": [
    "Exercise 4 Sebelum UTS"
   ]
  },
  {
   "cell_type": "code",
   "execution_count": 75,
   "metadata": {},
   "outputs": [],
   "source": [
    "import numpy as np\n",
    "\n",
    "skillsA_ = {'save': 81, 'tackle1': 79, 'passing': 78, 'tackle2':60, 'dribble1': 76, 'dribble2': 80, 'intercepts':85, 'shoot': 92}\n",
    "skillsB_ = {'save': 86, 'tackle1': 80, 'passing': 81, 'tackle2':70, 'dribble1': 70, 'dribble2': 81, 'intercepts':86, 'shoot': 90}\n",
    "mentalA_ = {'GK':80, 'DF':79, 'MD':78, 'ATK':77}\n",
    "mentalB_ = {'GK':77,'DF':78, 'MD':79, 'ATK':80}\n",
    "kb = 100000\n",
    "ka = 115000\n",
    "b = 0\n",
    "a = 0\n",
    "t = 90\n",
    "curr = \"A\"\n",
    "def calc_skill(skill, mentallity):\n",
    "    def alpha(mentallity):\n",
    "        return np.random.uniform(0,0.025) * (mentallity/100)\n",
    "    def beta():\n",
    "        return np.random.uniform(0,0.025) * (ka/(ka+kb))\n",
    "    return skill*(1-(alpha(mentallity)+beta()))"
   ]
  },
  {
   "cell_type": "code",
   "execution_count": 76,
   "metadata": {},
   "outputs": [],
   "source": [
    "def md_(x,y):\n",
    "    return calc_skill(x,y)\n",
    "\n",
    "def atk_(x,y):\n",
    "    return calc_skill(x,y)\n",
    "\n",
    "def gk_(x,y):\n",
    "    return calc_skill(x,y)\n",
    "\n",
    "def df_(x,y):\n",
    "    return calc_skill(x,y)"
   ]
  },
  {
   "cell_type": "code",
   "execution_count": 77,
   "metadata": {},
   "outputs": [],
   "source": [
    "def matchStart():\n",
    "    print('start....')\n",
    "    print(\"=========================SIMPLE FOOTBALL GAME=========================\")\n",
    "    print('Pertandingan dimulai')\n",
    "    fieldMid()\n",
    "\n",
    "def resultCheck():\n",
    "    global a, b\n",
    "    return print(f'Skor pertandingan saat ini adalah {a} - {b}')\n",
    "\n",
    "def stopBreak(x):\n",
    "    x = 0\n",
    "    return x\n",
    "def resultFinal():\n",
    "    global a,b\n",
    "    return print(f'Hasil akhir pertandingan adalah {a} - {b}')\n",
    "    \n",
    "def fieldMid():\n",
    "    global t, curr\n",
    "    if t >= 0:\n",
    "        if curr == \"A\":\n",
    "            if md_(skillsA_.get('dribble1'), mentalA_.get('MD')) > md_(skillsB_.get('tackle2'), mentalB_.get('MD')):\n",
    "                t -= 1\n",
    "                print('Bola dioper ke penyerang tim A')\n",
    "                print(f'waktu pertandingan tersisa {t} menit')\n",
    "                curr = \"A\"\n",
    "            else:\n",
    "                t -= 2\n",
    "                print('Bola diambil oleh penyerang tim B')\n",
    "                print(f'waktu pertandingan tersisa {t} menit')\n",
    "                curr = \"B\"\n",
    "        else:\n",
    "            if md_(skillsB_.get('dribble1'), mentalB_.get('MD')) > md_(skillsA_.get('tackle2'), mentalA_.get('MD')):\n",
    "                t -= 1\n",
    "                print('Bola dioper ke penyerang tim B')\n",
    "                print(f'waktu pertandingan tersisa {t} menit')\n",
    "                curr = \"B\"\n",
    "            else:\n",
    "                t -= 2\n",
    "                print('Bola diambil oleh penyerang tim A')\n",
    "                print(f'waktu pertandingan tersisa {t} menit')\n",
    "                curr = \"A\"\n",
    "        fieldAtk()\n",
    "    else:\n",
    "        stopBreak(t)\n",
    "\n",
    "def fieldAtk():\n",
    "    global t, curr, a, b\n",
    "    if t >= 0:\n",
    "        if curr == \"B\":\n",
    "            if atk_(skillsB_.get('dribble2'),mentalB_.get('ATK')) > df_(skillsA_.get('tackle1'),mentalA_.get('DF')):\n",
    "                print('Penyerang tim B akan melakukan shooting')\n",
    "                print(f'waktu pertandingan tersisa {t} menit')\n",
    "                t -= 1\n",
    "                if atk_(skillsB_.get('shoot'),mentalB_.get('ATK')) > gk_(skillsA_.get('save'),mentalA_.get('GK')):\n",
    "                    t -= 2\n",
    "                    print('tendangan berhasil memasukki gawang, gol bestie!')\n",
    "                    print(f'waktu pertandingan tersisa {t} menit')\n",
    "                    b += 1\n",
    "                    resultCheck()\n",
    "                    fieldMid()\n",
    "                    curr = \"B\"\n",
    "                else:\n",
    "                    t -= 3\n",
    "                    print('sayang sekali, tendangan tidak berhasil memasuki gawang')\n",
    "                    print(f'waktu pertandingan tersisa {t} menit')\n",
    "                    curr = \"A\"\n",
    "            else:\n",
    "                t -= 2\n",
    "                print('Bola diambil oleh pemain pertahanan tim A')\n",
    "                print(f'waktu pertandingan tersisa {t} menit')\n",
    "                curr = \"A\"\n",
    "        else:\n",
    "            if atk_(skillsA_.get('dribble2'),mentalA_.get('ATK')) > df_(skillsB_.get('tackle1'),mentalB_.get('DF')):\n",
    "                t -= 1\n",
    "                print('Penyerang tim A akan melakukan shooting')\n",
    "                print(f'waktu pertandingan tersisa {t} menit')\n",
    "                if atk_(skillsA_.get('shoot'),mentalA_.get('ATK')) > gk_(skillsB_.get('save'),mentalB_.get('GK')):\n",
    "                    t -= 2\n",
    "                    print('tendangan berhasil memasukki gawang, gol bestie!')\n",
    "                    print(f'waktu pertandingan tersisa {t} menit')\n",
    "                    a += 1\n",
    "                    resultCheck()\n",
    "                    fieldMid()\n",
    "                    curr = \"A\"\n",
    "                else:\n",
    "                    t -= 3\n",
    "                    print('sayang sekali, tendangan tidak berhasil memasuki gawang')\n",
    "                    print(f'waktu pertandingan tersisa {t} menit')\n",
    "                    curr = \"B\"\n",
    "            else:\n",
    "                t -= 2\n",
    "                print('Bola diambil oleh pemain pertahanan tim B')\n",
    "                print(f'waktu pertandingan tersisa {t} menit')\n",
    "                curr = \"B\"\n",
    "        fieldDf()\n",
    "    else:\n",
    "        stopBreak(t)\n",
    "\n",
    "def fieldDf():\n",
    "    global curr, t\n",
    "    if t >= 0:\n",
    "        if curr == \"B\":\n",
    "            if df_(skillsB_.get('passing'), mentalB_.get('DF')) > atk_(skillsA_.get('intercepts'),  mentalA_.get('ATK')):\n",
    "                t -= 2\n",
    "                print('Bola dioper ke pemain tengah B')\n",
    "                fieldMid()\n",
    "            else:\n",
    "                t -= 1\n",
    "                print('Bola diambil oleh penyerang tim A')\n",
    "                fieldAtk()\n",
    "        else:\n",
    "            if df_(skillsA_.get('passing'), mentalA_.get('DF')) > atk_(skillsB_.get('intercepts'),  mentalB_.get('ATK')):\n",
    "                t -= 2\n",
    "                print('Bola dioper ke pemain tengah A')\n",
    "                fieldMid()\n",
    "            else:\n",
    "                t -= 1\n",
    "                print('Bola diambil oleh penyerang tim B')\n",
    "                fieldAtk() \n",
    "    else:\n",
    "        stopBreak(t)\n"
   ]
  },
  {
   "cell_type": "code",
   "execution_count": 78,
   "metadata": {},
   "outputs": [
    {
     "name": "stdout",
     "output_type": "stream",
     "text": [
      "start....\n",
      "=========================SIMPLE FOOTBALL GAME=========================\n",
      "Pertandingan dimulai\n",
      "Bola dioper ke penyerang tim A\n",
      "waktu pertandingan tersisa 89 menit\n",
      "Penyerang tim A akan melakukan shooting\n",
      "waktu pertandingan tersisa 88 menit\n",
      "tendangan berhasil memasukki gawang, gol bestie!\n",
      "waktu pertandingan tersisa 86 menit\n",
      "Skor pertandingan saat ini adalah 1 - 0\n",
      "Bola dioper ke penyerang tim A\n",
      "waktu pertandingan tersisa 85 menit\n",
      "Bola diambil oleh pemain pertahanan tim B\n",
      "waktu pertandingan tersisa 83 menit\n",
      "Bola diambil oleh penyerang tim A\n",
      "Penyerang tim B akan melakukan shooting\n",
      "waktu pertandingan tersisa 82 menit\n",
      "tendangan berhasil memasukki gawang, gol bestie!\n",
      "waktu pertandingan tersisa 79 menit\n",
      "Skor pertandingan saat ini adalah 1 - 1\n",
      "Bola dioper ke penyerang tim B\n",
      "waktu pertandingan tersisa 78 menit\n",
      "Penyerang tim B akan melakukan shooting\n",
      "waktu pertandingan tersisa 78 menit\n",
      "tendangan berhasil memasukki gawang, gol bestie!\n",
      "waktu pertandingan tersisa 75 menit\n",
      "Skor pertandingan saat ini adalah 1 - 2\n",
      "Bola dioper ke penyerang tim B\n",
      "waktu pertandingan tersisa 74 menit\n",
      "Penyerang tim B akan melakukan shooting\n",
      "waktu pertandingan tersisa 74 menit\n",
      "tendangan berhasil memasukki gawang, gol bestie!\n",
      "waktu pertandingan tersisa 71 menit\n",
      "Skor pertandingan saat ini adalah 1 - 3\n",
      "Bola dioper ke penyerang tim B\n",
      "waktu pertandingan tersisa 70 menit\n",
      "Penyerang tim B akan melakukan shooting\n",
      "waktu pertandingan tersisa 70 menit\n",
      "tendangan berhasil memasukki gawang, gol bestie!\n",
      "waktu pertandingan tersisa 67 menit\n",
      "Skor pertandingan saat ini adalah 1 - 4\n",
      "Bola dioper ke penyerang tim B\n",
      "waktu pertandingan tersisa 66 menit\n",
      "Penyerang tim B akan melakukan shooting\n",
      "waktu pertandingan tersisa 66 menit\n",
      "tendangan berhasil memasukki gawang, gol bestie!\n",
      "waktu pertandingan tersisa 63 menit\n",
      "Skor pertandingan saat ini adalah 1 - 5\n",
      "Bola dioper ke penyerang tim B\n",
      "waktu pertandingan tersisa 62 menit\n",
      "Penyerang tim B akan melakukan shooting\n",
      "waktu pertandingan tersisa 62 menit\n",
      "tendangan berhasil memasukki gawang, gol bestie!\n",
      "waktu pertandingan tersisa 59 menit\n",
      "Skor pertandingan saat ini adalah 1 - 6\n",
      "Bola dioper ke penyerang tim B\n",
      "waktu pertandingan tersisa 58 menit\n",
      "Penyerang tim B akan melakukan shooting\n",
      "waktu pertandingan tersisa 58 menit\n",
      "tendangan berhasil memasukki gawang, gol bestie!\n",
      "waktu pertandingan tersisa 55 menit\n",
      "Skor pertandingan saat ini adalah 1 - 7\n",
      "Bola dioper ke penyerang tim B\n",
      "waktu pertandingan tersisa 54 menit\n",
      "Penyerang tim B akan melakukan shooting\n",
      "waktu pertandingan tersisa 54 menit\n",
      "tendangan berhasil memasukki gawang, gol bestie!\n",
      "waktu pertandingan tersisa 51 menit\n",
      "Skor pertandingan saat ini adalah 1 - 8\n",
      "Bola dioper ke penyerang tim B\n",
      "waktu pertandingan tersisa 50 menit\n",
      "Penyerang tim B akan melakukan shooting\n",
      "waktu pertandingan tersisa 50 menit\n",
      "tendangan berhasil memasukki gawang, gol bestie!\n",
      "waktu pertandingan tersisa 47 menit\n",
      "Skor pertandingan saat ini adalah 1 - 9\n",
      "Bola dioper ke penyerang tim B\n",
      "waktu pertandingan tersisa 46 menit\n",
      "Penyerang tim B akan melakukan shooting\n",
      "waktu pertandingan tersisa 46 menit\n",
      "tendangan berhasil memasukki gawang, gol bestie!\n",
      "waktu pertandingan tersisa 43 menit\n",
      "Skor pertandingan saat ini adalah 1 - 10\n",
      "Bola dioper ke penyerang tim B\n",
      "waktu pertandingan tersisa 42 menit\n",
      "Penyerang tim B akan melakukan shooting\n",
      "waktu pertandingan tersisa 42 menit\n",
      "tendangan berhasil memasukki gawang, gol bestie!\n",
      "waktu pertandingan tersisa 39 menit\n",
      "Skor pertandingan saat ini adalah 1 - 11\n",
      "Bola dioper ke penyerang tim B\n",
      "waktu pertandingan tersisa 38 menit\n",
      "Penyerang tim B akan melakukan shooting\n",
      "waktu pertandingan tersisa 38 menit\n",
      "tendangan berhasil memasukki gawang, gol bestie!\n",
      "waktu pertandingan tersisa 35 menit\n",
      "Skor pertandingan saat ini adalah 1 - 12\n",
      "Bola dioper ke penyerang tim B\n",
      "waktu pertandingan tersisa 34 menit\n",
      "Penyerang tim B akan melakukan shooting\n",
      "waktu pertandingan tersisa 34 menit\n",
      "tendangan berhasil memasukki gawang, gol bestie!\n",
      "waktu pertandingan tersisa 31 menit\n",
      "Skor pertandingan saat ini adalah 1 - 13\n",
      "Bola dioper ke penyerang tim B\n",
      "waktu pertandingan tersisa 30 menit\n",
      "Penyerang tim B akan melakukan shooting\n",
      "waktu pertandingan tersisa 30 menit\n",
      "tendangan berhasil memasukki gawang, gol bestie!\n",
      "waktu pertandingan tersisa 27 menit\n",
      "Skor pertandingan saat ini adalah 1 - 14\n",
      "Bola dioper ke penyerang tim B\n",
      "waktu pertandingan tersisa 26 menit\n",
      "Penyerang tim B akan melakukan shooting\n",
      "waktu pertandingan tersisa 26 menit\n",
      "tendangan berhasil memasukki gawang, gol bestie!\n",
      "waktu pertandingan tersisa 23 menit\n",
      "Skor pertandingan saat ini adalah 1 - 15\n",
      "Bola dioper ke penyerang tim B\n",
      "waktu pertandingan tersisa 22 menit\n",
      "Penyerang tim B akan melakukan shooting\n",
      "waktu pertandingan tersisa 22 menit\n",
      "tendangan berhasil memasukki gawang, gol bestie!\n",
      "waktu pertandingan tersisa 19 menit\n",
      "Skor pertandingan saat ini adalah 1 - 16\n",
      "Bola dioper ke penyerang tim B\n",
      "waktu pertandingan tersisa 18 menit\n",
      "Penyerang tim B akan melakukan shooting\n",
      "waktu pertandingan tersisa 18 menit\n",
      "tendangan berhasil memasukki gawang, gol bestie!\n",
      "waktu pertandingan tersisa 15 menit\n",
      "Skor pertandingan saat ini adalah 1 - 17\n",
      "Bola dioper ke penyerang tim B\n",
      "waktu pertandingan tersisa 14 menit\n",
      "Penyerang tim B akan melakukan shooting\n",
      "waktu pertandingan tersisa 14 menit\n",
      "tendangan berhasil memasukki gawang, gol bestie!\n",
      "waktu pertandingan tersisa 11 menit\n",
      "Skor pertandingan saat ini adalah 1 - 18\n",
      "Bola dioper ke penyerang tim B\n",
      "waktu pertandingan tersisa 10 menit\n",
      "Penyerang tim B akan melakukan shooting\n",
      "waktu pertandingan tersisa 10 menit\n",
      "tendangan berhasil memasukki gawang, gol bestie!\n",
      "waktu pertandingan tersisa 7 menit\n",
      "Skor pertandingan saat ini adalah 1 - 19\n",
      "Bola dioper ke penyerang tim B\n",
      "waktu pertandingan tersisa 6 menit\n",
      "Penyerang tim B akan melakukan shooting\n",
      "waktu pertandingan tersisa 6 menit\n",
      "tendangan berhasil memasukki gawang, gol bestie!\n",
      "waktu pertandingan tersisa 3 menit\n",
      "Skor pertandingan saat ini adalah 1 - 20\n",
      "Bola dioper ke penyerang tim B\n",
      "waktu pertandingan tersisa 2 menit\n",
      "Penyerang tim B akan melakukan shooting\n",
      "waktu pertandingan tersisa 2 menit\n",
      "tendangan berhasil memasukki gawang, gol bestie!\n",
      "waktu pertandingan tersisa -1 menit\n",
      "Skor pertandingan saat ini adalah 1 - 21\n"
     ]
    }
   ],
   "source": [
    "matchStart()"
   ]
  },
  {
   "cell_type": "markdown",
   "metadata": {},
   "source": [
    "PERTEMUAN 7 : Higher Order Function and Map"
   ]
  },
  {
   "cell_type": "code",
   "execution_count": 22,
   "metadata": {},
   "outputs": [
    {
     "name": "stdout",
     "output_type": "stream",
     "text": [
      "(1, 'a') (3, 'k') (5, 'u') (7, 'l') (9, 'u') (11, 'p') (13, 'a')\n"
     ]
    }
   ],
   "source": [
    "# 1 list tuples of P\n",
    "\n",
    "P = 'akulupa'\n",
    "print(*map(lambda p: (p[0]*2+1 , p[1]) , enumerate(P)))"
   ]
  },
  {
   "cell_type": "code",
   "execution_count": 23,
   "metadata": {},
   "outputs": [
    {
     "name": "stdout",
     "output_type": "stream",
     "text": [
      "[1, 2, 3, 4, 6, 8, 12, 24]\n"
     ]
    }
   ],
   "source": [
    "# 2 petakan B menjadi list faktornya\n",
    "\n",
    "B = 24\n",
    "\n",
    "two = map( lambda b: b+1 if B % (b+1) == 0 else -1, range(B))\n",
    "\n",
    "def dua(two):\n",
    "    x = []\n",
    "    for t in two:\n",
    "        if t != -1:\n",
    "            x.append(t)\n",
    "    return x\n",
    "\n",
    "print( dua(two))"
   ]
  },
  {
   "cell_type": "code",
   "execution_count": 24,
   "metadata": {},
   "outputs": [
    {
     "name": "stdout",
     "output_type": "stream",
     "text": [
      "-16\n"
     ]
    }
   ],
   "source": [
    "# nomor 3\n",
    "A =[[3,4], [5,6]]\n",
    "B = [[1,2],[7,8]]\n",
    "\n",
    "C=list(map(lambda ra, rb:list(map(lambda raa,rbb: raa+rbb, ra, rb)), A, B))\n",
    "\n",
    "def dett (C):\n",
    "    return C[0][0]*C[1][1]-C[0][1]*C[1][0]\n",
    "\n",
    "print(dett(C))"
   ]
  },
  {
   "cell_type": "markdown",
   "metadata": {},
   "source": [
    "PERTEMUAN 9 : Higher order Function:\n",
    "Filter "
   ]
  },
  {
   "cell_type": "code",
   "execution_count": 25,
   "metadata": {},
   "outputs": [
    {
     "name": "stdout",
     "output_type": "stream",
     "text": [
      "2 3 5 7 11 13 17 19 23 29 31 37 41 43 47 53 59 61 67 71 73 79 83 89 97\n"
     ]
    }
   ],
   "source": [
    "# Soal No 1\n",
    "# Buat program untuk menghitung deret bilangan prima dari 2 hingga menggunakan HOF filter dan map\n",
    "\n",
    "factor = lambda n : list(filter(lambda i: n%i==0 ,range (1,n+1)))\n",
    "primes = lambda n : filter(lambda i : len(factor(i)) == 2, range (1,n+1)) \n",
    "print(* primes(100))"
   ]
  },
  {
   "cell_type": "code",
   "execution_count": 26,
   "metadata": {},
   "outputs": [
    {
     "name": "stdout",
     "output_type": "stream",
     "text": [
      "dict_items([('Nagao', 35), ('Ishii', 30), ('Kazutomo', 20), ('Saito', 25), ('Hidemi', 29)])\n"
     ]
    }
   ],
   "source": [
    "# Soal No 2\n",
    "# Latihan filter\n",
    "\n",
    "employee = {\n",
    "    'Nagao':35,\n",
    "    'Ishii':30,\n",
    "    'Kazutomo':20,\n",
    "    'Saito':25,\n",
    "    'Hidemi':29\n",
    "}\n",
    "\n",
    "print( employee.items())"
   ]
  },
  {
   "cell_type": "code",
   "execution_count": 27,
   "metadata": {},
   "outputs": [
    {
     "name": "stdout",
     "output_type": "stream",
     "text": [
      "Nagao Ishii Saito Hidemi\n"
     ]
    }
   ],
   "source": [
    "filter_by_age = lambda age, employee: list( filter(lambda x:x [1] >= 25, employee.items())) \n",
    "filtered_arr = filter_by_age\n",
    "print(* map (lambda d:d[0], filter_by_age(25, employee)))"
   ]
  },
  {
   "cell_type": "markdown",
   "metadata": {},
   "source": [
    "PERTEMUAN 10 Higher Order Function - Reduce"
   ]
  },
  {
   "cell_type": "code",
   "execution_count": 28,
   "metadata": {},
   "outputs": [
    {
     "data": {
      "text/plain": [
       "3"
      ]
     },
     "execution_count": 28,
     "metadata": {},
     "output_type": "execute_result"
    }
   ],
   "source": [
    "\n",
    "# nomer 1\n",
    "# Buat fungsi mencari jumlah bilangan genap dari list L !\n",
    "\n",
    "from functools import reduce as r\n",
    "\n",
    "L = [2,1,9,10,3,90,15]\n",
    "\n",
    "n_genap = lambda L: r(lambda a,b: a + 1 if b%2 == 0 else a, L, 0)\n",
    "n_genap(L)"
   ]
  },
  {
   "cell_type": "code",
   "execution_count": 29,
   "metadata": {},
   "outputs": [
    {
     "name": "stdout",
     "output_type": "stream",
     "text": [
      "0!= 1\n",
      "1!= 1\n",
      "2!= 2\n",
      "3!= 6\n",
      "4!= 24\n",
      "5!= 120\n",
      "6!= 720\n",
      "7!= 5040\n",
      "8!= 40320\n",
      "9!= 362880\n",
      "10!= 3628800\n"
     ]
    }
   ],
   "source": [
    "\n",
    "# nomer 2\n",
    "# Buat fungsi untuk menghitung n! menggunakan reduce!\n",
    "facto = lambda n: r(lambda a,b: a*b if b>1 else 1, range(1, n+1), 1)\n",
    "for i in range(10+1):\n",
    "    print( str(i) + '!=', facto(i) )"
   ]
  },
  {
   "cell_type": "code",
   "execution_count": 30,
   "metadata": {},
   "outputs": [
    {
     "data": {
      "text/plain": [
       "10.583005244258363"
      ]
     },
     "execution_count": 30,
     "metadata": {},
     "output_type": "execute_result"
    }
   ],
   "source": [
    "# nomer 3\n",
    "# Hitung euclidian distance dari dua vektor berikut menggunakan higher order function!\n",
    "X = [2,5,6,7,10]\n",
    "Y = [-2,9,2,-1,10]\n",
    "\n",
    "euclid = lambda X,Y: r(lambda a,c:a+c, map(lambda x,y: (x-y)**2, X, Y))**0.5\n",
    "euclid(X,Y)\n"
   ]
  },
  {
   "cell_type": "code",
   "execution_count": 31,
   "metadata": {},
   "outputs": [
    {
     "data": {
      "text/plain": [
       "3"
      ]
     },
     "execution_count": 31,
     "metadata": {},
     "output_type": "execute_result"
    }
   ],
   "source": [
    "# nomer 4\n",
    "# Terdapat dictionary employee berisi nama dan umur pegawai, lakukan reduce untuk mengetahui berapa jumlah pegawai yang berumur > 25 tahun!\n",
    "employee = {\n",
    "    'Nagao':35,\n",
    "    'Ishii':30,\n",
    "    'Kazutomo':20,\n",
    "    'Saito':25,\n",
    "    'Hidemi':29\n",
    "}\n",
    "\n",
    "cnt_emp = lambda lim,employee: r(lambda a,b: a+1 if b[1]>lim else a, employee.items(),0)\n",
    "cnt_emp(25,employee)"
   ]
  },
  {
   "cell_type": "code",
   "execution_count": 32,
   "metadata": {},
   "outputs": [
    {
     "name": "stdout",
     "output_type": "stream",
     "text": [
      "Fibonacci 0 -> [0]\n",
      "Fibonacci 1 -> [0, 1]\n",
      "Fibonacci 2 -> [0, 1, 1]\n",
      "Fibonacci 3 -> [0, 1, 1, 2]\n",
      "Fibonacci 4 -> [0, 1, 1, 2, 3]\n",
      "Fibonacci 5 -> [0, 1, 1, 2, 3, 5]\n",
      "Fibonacci 6 -> [0, 1, 1, 2, 3, 5, 8]\n",
      "Fibonacci 7 -> [0, 1, 1, 2, 3, 5, 8, 13]\n",
      "Fibonacci 8 -> [0, 1, 1, 2, 3, 5, 8, 13, 21]\n",
      "Fibonacci 9 -> [0, 1, 1, 2, 3, 5, 8, 13, 21, 34]\n"
     ]
    }
   ],
   "source": [
    "# nomer 5\n",
    "# Buatlah deret fibonacci menggunakan higher order function!\n",
    "# Non Recursive menggunakan Reduce\n",
    "\n",
    "fibo = lambda n: r(lambda a,b: a if b[0] <=1 else a + [ a[ b[0]-1 ] + a[ b[0]-2]], enumerate( [0,1] + list(range(1,n))), [0,1] ) if n> 0 else [0]\n",
    "for i in range(10):\n",
    "    print('Fibonacci',i,'->',fibo(i))"
   ]
  },
  {
   "cell_type": "markdown",
   "metadata": {},
   "source": [
    "PERTEMUAN 11 - Recursion in FP"
   ]
  },
  {
   "cell_type": "code",
   "execution_count": 33,
   "metadata": {},
   "outputs": [
    {
     "data": {
      "text/plain": [
       "[0, 1, 1, 2, 3, 5, 8, 13, 21, 34, 55]"
      ]
     },
     "execution_count": 33,
     "metadata": {},
     "output_type": "execute_result"
    }
   ],
   "source": [
    "# Recursive\n",
    "#latihan \n",
    "# Buat sebuah program untuk membuat deret fibonacci dari 0 hingga N dengan menggunakan fungsi non-rekursif dan rekursif!\n",
    "fibo_rec = lambda n: 0 if n==0 else 1 if (n==1 or n==2) else fibo_rec(n-1) + fibo_rec(n-2)\n",
    "deret_fibo_rec = lambda n: list( map(lambda i: fibo_rec(i), range(n+1)))\n",
    "deret_fibo_rec(10)"
   ]
  },
  {
   "cell_type": "markdown",
   "metadata": {},
   "source": [
    "Jadi kesimpulannya dalam membuat fibonacci, lebih baik menggunakan non recursive terlihat dari hasil running yang lebih cepat"
   ]
  },
  {
   "cell_type": "markdown",
   "metadata": {},
   "source": [
    "PERTEMUAN 12 Purity and Immutability"
   ]
  },
  {
   "cell_type": "code",
   "execution_count": 34,
   "metadata": {},
   "outputs": [],
   "source": [
    "#latihan 1\n",
    "#Ubah fungsiku menjadi pure function!\n",
    "def fungsiku(L):\n",
    "    def check_genap(l):\n",
    "        return l % 2 == 0\n",
    "    for i in range(len(L)):\n",
    "        if check_genap(L[i]):\n",
    "            L[i] = L[i]/2\n",
    "        else:\n",
    "            L[i] = L[i]*n+1\n",
    "    return L"
   ]
  },
  {
   "cell_type": "code",
   "execution_count": 35,
   "metadata": {},
   "outputs": [
    {
     "name": "stdout",
     "output_type": "stream",
     "text": [
      "[16, 3.0, 22, 4.0]\n"
     ]
    }
   ],
   "source": [
    "n = 3\n",
    "L = [5,6,7,8]\n",
    "print(fungsiku(L))"
   ]
  },
  {
   "cell_type": "code",
   "execution_count": 36,
   "metadata": {},
   "outputs": [
    {
     "name": "stdout",
     "output_type": "stream",
     "text": [
      "[16, 3.0, 22, 4.0]\n"
     ]
    }
   ],
   "source": [
    "print(L)"
   ]
  },
  {
   "cell_type": "code",
   "execution_count": 37,
   "metadata": {},
   "outputs": [
    {
     "name": "stdout",
     "output_type": "stream",
     "text": [
      "[16, 3.0, 22, 4.0]\n",
      "[5, 6, 7, 8]\n"
     ]
    }
   ],
   "source": [
    "n = 3\n",
    "L = [5,6,7,8]\n",
    "def fungsiku(L, n):\n",
    "    return list(map(lambda x: x/2 if x%2==0 else x*n+1, L))\n",
    "print(fungsiku(L,n))\n",
    "print(L)\n"
   ]
  },
  {
   "cell_type": "code",
   "execution_count": 38,
   "metadata": {},
   "outputs": [],
   "source": [
    "#latihan 2\n",
    "#Ubah fungsiku2 menjadi pure function!\n",
    "def fungsiku2(L):\n",
    "    def check_faktor(l):\n",
    "        return l % n == 0\n",
    "    for i in range(len(L)):\n",
    "        if check_faktor(L[i]):\n",
    "            L[i] = L[i]/2\n",
    "        else:\n",
    "            L[i] = L[i] * n + 1\n",
    "    return L\n"
   ]
  },
  {
   "cell_type": "code",
   "execution_count": 39,
   "metadata": {},
   "outputs": [
    {
     "name": "stdout",
     "output_type": "stream",
     "text": [
      "[16, 3.0, 22, 25]\n",
      "[16, 3.0, 22, 25]\n"
     ]
    }
   ],
   "source": [
    "n = 3\n",
    "L = [5,6,7,8]\n",
    "print(list(fungsiku2(L)))\n",
    "print(L)"
   ]
  },
  {
   "cell_type": "code",
   "execution_count": 40,
   "metadata": {},
   "outputs": [
    {
     "name": "stdout",
     "output_type": "stream",
     "text": [
      "[16, 3.0, 22, 25]\n",
      "[5, 6, 7, 8]\n"
     ]
    }
   ],
   "source": [
    "n = 3\n",
    "L = [5,6,7,8]\n",
    "def fungsiku2(L, n):\n",
    "    return list(map(lambda x: x/2 if x%n==0 else x*n+1, L))\n",
    "print(fungsiku2(L,n))\n",
    "print(L)\n"
   ]
  },
  {
   "cell_type": "code",
   "execution_count": 41,
   "metadata": {},
   "outputs": [
    {
     "ename": "TypeError",
     "evalue": "'tuple' object does not support item assignment",
     "output_type": "error",
     "traceback": [
      "\u001b[1;31m---------------------------------------------------------------------------\u001b[0m",
      "\u001b[1;31mTypeError\u001b[0m                                 Traceback (most recent call last)",
      "\u001b[1;32m~\\AppData\\Local\\Temp/ipykernel_17680/1313421453.py\u001b[0m in \u001b[0;36m<module>\u001b[1;34m\u001b[0m\n\u001b[0;32m      2\u001b[0m \u001b[1;31m#Apakah isi dalam tupel tup ada yang dapat diubah?\u001b[0m\u001b[1;33m\u001b[0m\u001b[1;33m\u001b[0m\u001b[0m\n\u001b[0;32m      3\u001b[0m \u001b[0mtup\u001b[0m \u001b[1;33m=\u001b[0m \u001b[1;33m(\u001b[0m\u001b[1;33m[\u001b[0m\u001b[1;36m3\u001b[0m\u001b[1;33m,\u001b[0m \u001b[1;36m4\u001b[0m\u001b[1;33m,\u001b[0m \u001b[1;36m5\u001b[0m\u001b[1;33m]\u001b[0m\u001b[1;33m,\u001b[0m \u001b[1;34m'myname'\u001b[0m\u001b[1;33m)\u001b[0m\u001b[1;33m\u001b[0m\u001b[1;33m\u001b[0m\u001b[0m\n\u001b[1;32m----> 4\u001b[1;33m \u001b[0mtup\u001b[0m\u001b[1;33m[\u001b[0m\u001b[1;36m0\u001b[0m\u001b[1;33m]\u001b[0m\u001b[1;33m=\u001b[0m\u001b[1;34m\"lanang\"\u001b[0m\u001b[1;33m\u001b[0m\u001b[1;33m\u001b[0m\u001b[0m\n\u001b[0m\u001b[0;32m      5\u001b[0m \u001b[0mprint\u001b[0m\u001b[1;33m(\u001b[0m\u001b[1;34m\"tup 2 :\"\u001b[0m\u001b[1;33m,\u001b[0m \u001b[0mtup\u001b[0m\u001b[1;33m)\u001b[0m\u001b[1;33m\u001b[0m\u001b[1;33m\u001b[0m\u001b[0m\n",
      "\u001b[1;31mTypeError\u001b[0m: 'tuple' object does not support item assignment"
     ]
    }
   ],
   "source": [
    "#latihan 3\n",
    "#Apakah isi dalam tupel tup ada yang dapat diubah?\n",
    "tup = ([3, 4, 5], 'myname')\n",
    "tup[0]=\"lanang\"\n",
    "print(\"tup 2 :\", tup)"
   ]
  },
  {
   "cell_type": "markdown",
   "metadata": {},
   "source": [
    "Bisa dilihat diatas bahwa jika data bertipe tupple dia tidak bisa diubah atau immutable"
   ]
  },
  {
   "cell_type": "markdown",
   "metadata": {},
   "source": [
    "PERTEMUAN 13 : Function Building Function"
   ]
  },
  {
   "cell_type": "code",
   "execution_count": 42,
   "metadata": {},
   "outputs": [],
   "source": [
    "#latihan \n",
    "from functools import reduce as r\n",
    "keranjang = [\n",
    "    {'Jumlah_Barang': 5, 'Harga': 10},\n",
    "    {'Jumlah_Barang': 7, 'Harga': 20},\n",
    "    {'Jumlah_Barang': 20, 'Harga': 4.5}\n",
    "]"
   ]
  },
  {
   "cell_type": "code",
   "execution_count": 43,
   "metadata": {},
   "outputs": [],
   "source": [
    "def pajak_decorator(func):\n",
    "    def inner(*args, **kwargs):\n",
    "        res = func(*args, **kwargs)\n",
    "        print('Sub Total: ', res)\n",
    "        print('Pajak: ', res * 0.11)\n",
    "        print('Total: ', res + res * 0.11)\n",
    "        return res\n",
    "    return inner\n",
    "\n",
    "import time \n",
    "\n",
    "def calc_time_decorator(fu):\n",
    "    def inner(*args, **kwargs):\n",
    "        waktu_awal = time.time()\n",
    "        res = fu(*args, **kwargs)\n",
    "        waktu_akhir = time.time()\n",
    "        print('Waktu eksekusi: ', waktu_akhir - waktu_awal)\n",
    "        return res\n",
    "    return inner"
   ]
  },
  {
   "cell_type": "code",
   "execution_count": 44,
   "metadata": {},
   "outputs": [
    {
     "name": "stdout",
     "output_type": "stream",
     "text": [
      "Sub Total:  280.0\n",
      "Pajak:  30.8\n",
      "Total:  310.8\n",
      "Waktu eksekusi:  0.0\n"
     ]
    },
    {
     "data": {
      "text/plain": [
       "280.0"
      ]
     },
     "execution_count": 44,
     "metadata": {},
     "output_type": "execute_result"
    }
   ],
   "source": [
    "@calc_time_decorator\n",
    "@pajak_decorator\n",
    "def hitung_pembayaran_1(keranjang):\n",
    "    return r(lambda a,b: a + (b['Jumlah_Barang'] * b['Harga']), keranjang, 0)\n",
    "\n",
    "hitung_pembayaran_1(keranjang)"
   ]
  },
  {
   "cell_type": "code",
   "execution_count": 45,
   "metadata": {},
   "outputs": [
    {
     "name": "stdout",
     "output_type": "stream",
     "text": [
      "Sub Total:  280000.0\n",
      "Pajak:  30800.0\n",
      "Total:  310800.0\n",
      "Waktu eksekusi:  0.0005629062652587891\n"
     ]
    },
    {
     "data": {
      "text/plain": [
       "280000.0"
      ]
     },
     "execution_count": 45,
     "metadata": {},
     "output_type": "execute_result"
    }
   ],
   "source": [
    "@calc_time_decorator\n",
    "@pajak_decorator\n",
    "def hitung_pembayaran_2(keranjang):\n",
    "    s = 0\n",
    "    for k in keranjang:\n",
    "        s = s + k['Jumlah_Barang'] * k['Harga']\n",
    "    return s * 1000\n",
    "hitung_pembayaran_2(keranjang)"
   ]
  },
  {
   "cell_type": "markdown",
   "metadata": {},
   "source": [
    "Latihan Akhir"
   ]
  },
  {
   "cell_type": "code",
   "execution_count": 46,
   "metadata": {},
   "outputs": [],
   "source": [
    "import numpy as np\n",
    "from random import randint\n",
    "from functools import reduce as r\n"
   ]
  },
  {
   "cell_type": "code",
   "execution_count": 47,
   "metadata": {},
   "outputs": [
    {
     "data": {
      "text/plain": [
       "array([[-0.27941827, -0.63652919],\n",
       "       [ 0.77738588,  0.39804787]])"
      ]
     },
     "execution_count": 47,
     "metadata": {},
     "output_type": "execute_result"
    }
   ],
   "source": [
    "def fungsim(a, b):\n",
    "    M= np.random.uniform(a, b, size=(2, 2))\n",
    "    return M\n",
    "M=fungsim(-1, 1)\n",
    "M\n"
   ]
  },
  {
   "cell_type": "code",
   "execution_count": 48,
   "metadata": {},
   "outputs": [
    {
     "data": {
      "text/plain": [
       "array([[-0.87793445,  0.19590005],\n",
       "       [-0.79849184,  0.58883958],\n",
       "       [ 0.553691  ,  0.77717252]])"
      ]
     },
     "execution_count": 48,
     "metadata": {},
     "output_type": "execute_result"
    }
   ],
   "source": [
    "def fungsiw(a, b):\n",
    "    W= np.random.uniform(a, b, size=(3, 2))\n",
    "    return W\n",
    "W=fungsiw(-1, 1)\n",
    "W"
   ]
  },
  {
   "cell_type": "code",
   "execution_count": 49,
   "metadata": {},
   "outputs": [
    {
     "data": {
      "text/plain": [
       "array([[ 0.1657142 ],\n",
       "       [-0.26120124]])"
      ]
     },
     "execution_count": 49,
     "metadata": {},
     "output_type": "execute_result"
    }
   ],
   "source": [
    "def fungsih(a, b):\n",
    "    H= np.random.uniform(a, b, size=(2, 1))\n",
    "    return H\n",
    "H=fungsih(-1, 1)\n",
    "H"
   ]
  },
  {
   "cell_type": "code",
   "execution_count": 50,
   "metadata": {},
   "outputs": [],
   "source": [
    "X=[1,0,9]"
   ]
  },
  {
   "cell_type": "code",
   "execution_count": 51,
   "metadata": {},
   "outputs": [],
   "source": [
    "import time\n",
    "\n",
    "def calc_time_decorator(func):\n",
    "    def inner(*args, **kwargs):\n",
    "        start = time.time()\n",
    "        res = func(*args, **kwargs)\n",
    "        end = time.time()\n",
    "        print('Time: ', end - start)\n",
    "        return res\n",
    "    return inner"
   ]
  },
  {
   "cell_type": "code",
   "execution_count": 52,
   "metadata": {},
   "outputs": [],
   "source": [
    "import math\n",
    "\n",
    "def aktivasi(x):\n",
    "    return (math.exp(x)-math.exp(-x))/(math.exp(x)+math.exp(-x))\n",
    "def WTi(W,i):\n",
    "    return list(map(lambda w: w[i], W))\n",
    "def WT(W):\n",
    "    return list(map(lambda i: WTi(W,i), range(0,len(W[0]))))\n",
    "def XW(X,W):\n",
    "    return map(lambda w:r(lambda x,y:x+y, map(lambda xx,ww:xx*ww, X,w)), WT(W))\n",
    "def input_to_hidden(X,W):\n",
    "    return map(lambda x: aktivasi(x), XW(X,W))\n",
    "\n",
    "A=list(input_to_hidden(X,W))\n",
    "\n",
    "def MTi(M,i):\n",
    "    return list(map(lambda m: m[i], M))\n",
    "def MT(M):\n",
    "    return list(map(lambda i: MTi(M,i), range(0,len(M[0]))))\n",
    "def AM(A,M):\n",
    "    return map(lambda m:r(lambda x,y:x+y, map(lambda aa,mm:aa*mm, A,m)), MT(M))\n",
    "def hidden_to_hidden(A,M):\n",
    "    return map(lambda a: a, AM(A,M))\n",
    "\n",
    "@calc_time_decorator\n",
    "def feed_forward(A,M,H):\n",
    "    return hidden_to_hidden(hidden_to_hidden(A,M),H)"
   ]
  },
  {
   "cell_type": "code",
   "execution_count": 65,
   "metadata": {},
   "outputs": [
    {
     "name": "stdout",
     "output_type": "stream",
     "text": [
      "Time:  0.0\n",
      "[0.14474670464513756]\n"
     ]
    }
   ],
   "source": [
    "print(list(feed_forward(A,M,H)))"
   ]
  },
  {
   "cell_type": "code",
   "execution_count": null,
   "metadata": {},
   "outputs": [],
   "source": []
  }
 ],
 "metadata": {
  "interpreter": {
   "hash": "20a9e06a1eee47c4abbed4ec8225ad91d78d9800d202b71b6b0a6e47016c6abd"
  },
  "kernelspec": {
   "display_name": "Python 3.9.7 ('base')",
   "language": "python",
   "name": "python3"
  },
  "language_info": {
   "codemirror_mode": {
    "name": "ipython",
    "version": 3
   },
   "file_extension": ".py",
   "mimetype": "text/x-python",
   "name": "python",
   "nbconvert_exporter": "python",
   "pygments_lexer": "ipython3",
   "version": "3.9.7"
  },
  "orig_nbformat": 4
 },
 "nbformat": 4,
 "nbformat_minor": 2
}
